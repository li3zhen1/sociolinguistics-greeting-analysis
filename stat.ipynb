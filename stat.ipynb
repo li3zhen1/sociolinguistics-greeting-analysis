{
 "cells": [
  {
   "cell_type": "code",
   "execution_count": 184,
   "metadata": {},
   "outputs": [],
   "source": [
    "import os\n",
    "import sys\n",
    "import chardet\n",
    "\n",
    "\n",
    "def read_text(path: str) -> str | None:\n",
    "    try:\n",
    "        if not os.path.exists(path):\n",
    "            return None\n",
    "\n",
    "        with open(path, \"rb\") as file:\n",
    "            data = file.read()\n",
    "\n",
    "        encoding = chardet.detect(data)[\"encoding\"]\n",
    "        return data.decode(encoding)\n",
    "    except Exception as e:\n",
    "        return None"
   ]
  },
  {
   "cell_type": "code",
   "execution_count": 185,
   "metadata": {},
   "outputs": [],
   "source": [
    "import regex as re\n",
    "\n",
    "# 4 digits with no other digits before or after\n",
    "reg = r'(?<!\\d)\\d{4}(?!\\d)'\n",
    "def get_year(file_name: str) -> int|None:\n",
    "    if re.search(reg, file_name) is not None:\n",
    "        return int(re.search(reg, file_name).group(0))\n",
    "    else:\n",
    "        return None\n",
    "    \n",
    "\n",
    "def count_regexp_occ(regexp: str, text: str) -> int:\n",
    "    return len(re.findall(regexp, text))\n"
   ]
  },
  {
   "cell_type": "code",
   "execution_count": 186,
   "metadata": {},
   "outputs": [],
   "source": [
    "regex你好 = r'((?<!\\p{Han})(你|您)好[啊]?(?!\\p{Han}))'\n",
    "regex嗨 = r'((?<!\\p{Han})(嗨|嘿)(?!\\p{Han}))'\n",
    "regex上午下午晚上中午早上好 = r'((?<!\\p{Han})(上午|下午|晚上|中午|早上)好[啊]?(?!\\p{Han}))'\n",
    "regex你好吗 = r'((?<!\\p{Han})你(最近)?好[吗么没嘛啊](?!\\p{Han}))'\n",
    "regex吃了吗 = r'(吃[过]?[饭]?了[吗么没嘛啊](?!\\p{Han}))'\n",
    "\n",
    "all_regex = [regex你好, regex嗨, regex上午下午晚上中午早上好, regex你好吗, regex吃了吗]"
   ]
  },
  {
   "cell_type": "code",
   "execution_count": 187,
   "metadata": {},
   "outputs": [
    {
     "name": "stdout",
     "output_type": "stream",
     "text": [
      "[('嗨', '嗨'), ('嘿', '嘿')]\n",
      "['吃过饭了吗', '吃了吗', '吃了没']\n",
      "[('你好吗', ''), ('你最近好吗', '最近')]\n",
      "[('早上好', '早上')]\n"
     ]
    }
   ],
   "source": [
    "\n",
    "test_text = \"早上好。我是为了你好，你好,你好你好-嗨！-嘿！你吃过饭了吗？你吃了吗？吃了没？你好吗？你最近好吗？你说我好吗？\"\n",
    "result = re.findall(pattern=regex嗨, string=test_text)\n",
    "print(result)\n",
    "result = re.findall(pattern=regex吃了吗, string=test_text)\n",
    "print(result)\n",
    "result = re.findall(pattern=regex你好吗, string=test_text)\n",
    "print(result)\n",
    "result = re.findall(pattern=regex上午下午晚上中午早上好, string=test_text)\n",
    "print(result)"
   ]
  },
  {
   "cell_type": "code",
   "execution_count": 188,
   "metadata": {},
   "outputs": [],
   "source": [
    "def walk_decade(decade: int):\n",
    "    for root, dirs, files in os.walk(f\"./captions/{decade}s\"):\n",
    "        for file in files:\n",
    "            path = os.path.join(root, file)\n",
    "            text = read_text(path)\n",
    "            if text is None:\n",
    "                continue\n",
    "\n",
    "            year_of_movie = get_year(file)\n",
    "            \n",
    "            counts = [\n",
    "                count_regexp_occ(r, text)\n",
    "                for r in all_regex\n",
    "            ]\n",
    "\n",
    "            yield file, decade, str(year_of_movie), counts[0], counts[1], counts[2], counts[3], counts[4]"
   ]
  },
  {
   "cell_type": "code",
   "execution_count": null,
   "metadata": {},
   "outputs": [],
   "source": []
  },
  {
   "cell_type": "code",
   "execution_count": 189,
   "metadata": {},
   "outputs": [],
   "source": [
    "import pandas as pd"
   ]
  },
  {
   "cell_type": "code",
   "execution_count": 190,
   "metadata": {},
   "outputs": [],
   "source": [
    "def generate_csv(decade: int):\n",
    "    data = list(walk_decade(decade))\n",
    "\n",
    "    df = pd.DataFrame(data, columns=[\n",
    "        \"file\", \"decade\", \"year\",\n",
    "            \"regex你好\", \n",
    "            \"regex嗨\",\n",
    "            \"regex上午下午晚上中午早上好\",\n",
    "            \"regex你好吗\",\n",
    "            \"regex吃了吗\",\n",
    "    ])\n",
    "    df.to_csv(f\"{decade}.csv\", index=False)"
   ]
  },
  {
   "cell_type": "code",
   "execution_count": 191,
   "metadata": {},
   "outputs": [
    {
     "name": "stdout",
     "output_type": "stream",
     "text": [
      "1960\n",
      "1970\n",
      "1980\n",
      "1990\n",
      "2000\n",
      "2010\n",
      "2020\n"
     ]
    }
   ],
   "source": [
    "for y in range(1960, 2030, 10):\n",
    "    print(y)\n",
    "    generate_csv(y)"
   ]
  },
  {
   "cell_type": "code",
   "execution_count": 192,
   "metadata": {},
   "outputs": [
    {
     "name": "stderr",
     "output_type": "stream",
     "text": [
      "/var/folders/gx/j0snwyqn015d2ms_6k_qbspc0000gn/T/ipykernel_64278/236019991.py:7: FutureWarning: The frame.append method is deprecated and will be removed from pandas in a future version. Use pandas.concat instead.\n",
      "  df = df.append(pd.read_csv(f\"{y}.csv\"))\n",
      "/var/folders/gx/j0snwyqn015d2ms_6k_qbspc0000gn/T/ipykernel_64278/236019991.py:7: FutureWarning: The frame.append method is deprecated and will be removed from pandas in a future version. Use pandas.concat instead.\n",
      "  df = df.append(pd.read_csv(f\"{y}.csv\"))\n",
      "/var/folders/gx/j0snwyqn015d2ms_6k_qbspc0000gn/T/ipykernel_64278/236019991.py:7: FutureWarning: The frame.append method is deprecated and will be removed from pandas in a future version. Use pandas.concat instead.\n",
      "  df = df.append(pd.read_csv(f\"{y}.csv\"))\n",
      "/var/folders/gx/j0snwyqn015d2ms_6k_qbspc0000gn/T/ipykernel_64278/236019991.py:7: FutureWarning: The frame.append method is deprecated and will be removed from pandas in a future version. Use pandas.concat instead.\n",
      "  df = df.append(pd.read_csv(f\"{y}.csv\"))\n",
      "/var/folders/gx/j0snwyqn015d2ms_6k_qbspc0000gn/T/ipykernel_64278/236019991.py:7: FutureWarning: The frame.append method is deprecated and will be removed from pandas in a future version. Use pandas.concat instead.\n",
      "  df = df.append(pd.read_csv(f\"{y}.csv\"))\n",
      "/var/folders/gx/j0snwyqn015d2ms_6k_qbspc0000gn/T/ipykernel_64278/236019991.py:7: FutureWarning: The frame.append method is deprecated and will be removed from pandas in a future version. Use pandas.concat instead.\n",
      "  df = df.append(pd.read_csv(f\"{y}.csv\"))\n"
     ]
    }
   ],
   "source": [
    "#join all csvs\n",
    "import pandas as pd\n",
    "\n",
    "df = pd.read_csv(\"1960.csv\")\n",
    "\n",
    "for y in range(1970, 2030, 10):\n",
    "    df = df.append(pd.read_csv(f\"{y}.csv\"))\n",
    "    \n"
   ]
  },
  {
   "cell_type": "code",
   "execution_count": 193,
   "metadata": {},
   "outputs": [],
   "source": [
    "# df[\"real_year\"] = df[\"year\"] is \"None\" ? df['decade'] : ((df[\"year\"]//10)*10)\n",
    "df[\"real_year\"] = df.apply(\n",
    "    lambda row: int(row[\"decade\"]) if row['year'] == \"None\" else int(row[\"year\"]), axis=1).apply(\n",
    "    lambda x: int(x//10)*10)\n",
    "    \n"
   ]
  },
  {
   "cell_type": "code",
   "execution_count": 194,
   "metadata": {},
   "outputs": [],
   "source": [
    "df.to_csv(\"all.csv\", index=False)"
   ]
  }
 ],
 "metadata": {
  "kernelspec": {
   "display_name": "3.11",
   "language": "python",
   "name": "python3"
  },
  "language_info": {
   "codemirror_mode": {
    "name": "ipython",
    "version": 3
   },
   "file_extension": ".py",
   "mimetype": "text/x-python",
   "name": "python",
   "nbconvert_exporter": "python",
   "pygments_lexer": "ipython3",
   "version": "3.11.0"
  }
 },
 "nbformat": 4,
 "nbformat_minor": 2
}
