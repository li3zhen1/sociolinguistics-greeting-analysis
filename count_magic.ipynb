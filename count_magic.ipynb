{
 "cells": [
  {
   "cell_type": "code",
   "execution_count": 7,
   "metadata": {},
   "outputs": [
    {
     "name": "stdout",
     "output_type": "stream",
     "text": [
      "((?<!\\p{Han})(你|您)好[啊]?(?!\\p{Han})) 8\n",
      "((?<!\\p{Han})(上午|下午|晚上|中午|早上)好[啊]?(?!\\p{Han})) 0\n",
      "((?<!\\p{Han})(你|您)(最近)?好[吗么没嘛啊](?!\\p{Han})) 0\n",
      "((?<!\\p{Han})吃[过]?[饭]?了[吗么没嘛啊](?!\\p{Han})) 1\n"
     ]
    }
   ],
   "source": [
    "import regex as re\n",
    "import os\n",
    "\n",
    "regex你好 = r'((?<!\\p{Han})(你|您)好[啊]?(?!\\p{Han}))'\n",
    "regex嗨 = r'((?<!\\p{Han})(嗨|嘿)(?!\\p{Han}))'\n",
    "regex上午下午晚上中午早上好 = r'((?<!\\p{Han})(上午|下午|晚上|中午|早上)好[啊]?(?!\\p{Han}))'\n",
    "regex你好吗 = r'((?<!\\p{Han})(你|您)(最近)?好[吗么没嘛啊](?!\\p{Han}))'\n",
    "regex吃了吗 = r'((?<!\\p{Han})吃[过]?[饭]?了[吗么没嘛啊](?!\\p{Han}))'\n",
    "\n",
    "all_regex = [regex你好,regex上午下午晚上中午早上好, regex你好吗, regex吃了吗]\n",
    "\n",
    "\n",
    "# count regex from \"./mandarin_conversation/mandarin_conversational_corpus_combined_scripts.txt\"\n",
    "with open(\"./mandarin_conversation/mandarin_conversational_corpus_combined_scripts.txt\", \"r\") as f:\n",
    "    text = f.read()\n",
    "    for regex in all_regex:\n",
    "        count = len(re.findall(regex, text))\n",
    "        print(regex, count)\n"
   ]
  }
 ],
 "metadata": {
  "kernelspec": {
   "display_name": "3.11",
   "language": "python",
   "name": "python3"
  },
  "language_info": {
   "codemirror_mode": {
    "name": "ipython",
    "version": 3
   },
   "file_extension": ".py",
   "mimetype": "text/x-python",
   "name": "python",
   "nbconvert_exporter": "python",
   "pygments_lexer": "ipython3",
   "version": "3.11.0"
  }
 },
 "nbformat": 4,
 "nbformat_minor": 2
}
