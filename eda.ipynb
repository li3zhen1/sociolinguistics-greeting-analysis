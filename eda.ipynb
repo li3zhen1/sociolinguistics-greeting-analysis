{
 "cells": [
  {
   "cell_type": "code",
   "execution_count": 12,
   "metadata": {},
   "outputs": [],
   "source": [
    "import pandas as pd\n",
    "\n",
    "df = pd.read_csv('all.csv')\n",
    "\n",
    "regex_columns = df.columns[df.columns.str.contains('regex')]\n",
    "\n",
    "regex_columns = ['regex你好', 'regex上午下午晚上中午早上好', 'regex你好吗', 'regex吃了吗']"
   ]
  },
  {
   "cell_type": "code",
   "execution_count": 14,
   "metadata": {},
   "outputs": [],
   "source": [
    "# group by 'real_year', sum the regex columns, and divide by the total sum of regex columns\n",
    "sum_df = df.groupby('real_year')[regex_columns].sum()\n",
    "\n",
    "sum_df = sum_df.div(sum_df.sum(axis=1), axis=0)\n",
    "\n",
    "sum_df.to_json('regex_sum.json', orient='index')"
   ]
  },
  {
   "cell_type": "code",
   "execution_count": null,
   "metadata": {},
   "outputs": [],
   "source": []
  }
 ],
 "metadata": {
  "kernelspec": {
   "display_name": "3.11",
   "language": "python",
   "name": "python3"
  },
  "language_info": {
   "codemirror_mode": {
    "name": "ipython",
    "version": 3
   },
   "file_extension": ".py",
   "mimetype": "text/x-python",
   "name": "python",
   "nbconvert_exporter": "python",
   "pygments_lexer": "ipython3",
   "version": "3.11.0"
  }
 },
 "nbformat": 4,
 "nbformat_minor": 2
}
