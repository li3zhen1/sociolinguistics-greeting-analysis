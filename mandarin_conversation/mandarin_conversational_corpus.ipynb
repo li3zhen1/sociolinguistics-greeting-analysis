{
 "cells": [
  {
   "cell_type": "code",
   "execution_count": 1,
   "metadata": {},
   "outputs": [
    {
     "name": "stdout",
     "output_type": "stream",
     "text": [
      "你好^吗:  104\n",
      "你好吗:  0\n",
      "你吃了吗:  0\n"
     ]
    }
   ],
   "source": [
    "TXT_PATH = \"/Users/lizhen/Downloads/MagicData-RAMC/MDT2021S003/TXT\"\n",
    "\n",
    "import os\n",
    "import re\n",
    "\n",
    "nihao = 0\n",
    "nihaoma = 0\n",
    "nichilema = 0\n",
    "\n",
    "for f in os.listdir(TXT_PATH):\n",
    "    if f.endswith(\".txt\"):\n",
    "        with open(os.path.join(TXT_PATH, f), \"r\") as fp:\n",
    "            txt = fp.read()\n",
    "            # regex count \"你好^吗\" and \"你好\"\n",
    "            nihao += len(re.findall(r\"你好[^吗]\", txt))\n",
    "            nihaoma += len(re.findall(r\"你好吗\", txt))\n",
    "            nichilema += len(re.findall(r\"你吃了吗\", txt))\n",
    "\n",
    "print(\"你好^吗: \", nihao)\n",
    "print(\"你好吗: \", nihaoma)\n",
    "print(\"你吃了吗: \", nichilema)"
   ]
  },
  {
   "cell_type": "code",
   "execution_count": 6,
   "metadata": {},
   "outputs": [
    {
     "data": {
      "text/plain": [
       "'你好the cat sat on the mat'"
      ]
     },
     "execution_count": 6,
     "metadata": {},
     "output_type": "execute_result"
    }
   ],
   "source": [
    "# extract [1.538,6.184]\tG00000571\t男,普通话\t爱数智慧语音采集二零一九年十一月十日\n",
    "\n",
    "CONVERSATION_REGEX = r\"\\[[0-9\\.,]+\\][\\s\\t]+G[0-9]+\\s+\\.+,普通话\\s+(\\.+)\"\n",
    "\n",
    "text = \"[1.538,6.184]\tG00000571\t男,普通话\t爱数智慧语音采集二零一九年十一月十日\"\n",
    "\n",
    "\"你好the cat sat on the mat\".replace(r\"[\\p{Han}\\p{N}]+\", \"a\")"
   ]
  }
 ],
 "metadata": {
  "kernelspec": {
   "display_name": "3.11",
   "language": "python",
   "name": "python3"
  },
  "language_info": {
   "codemirror_mode": {
    "name": "ipython",
    "version": 3
   },
   "file_extension": ".py",
   "mimetype": "text/x-python",
   "name": "python",
   "nbconvert_exporter": "python",
   "pygments_lexer": "ipython3",
   "version": "3.11.0"
  }
 },
 "nbformat": 4,
 "nbformat_minor": 2
}
