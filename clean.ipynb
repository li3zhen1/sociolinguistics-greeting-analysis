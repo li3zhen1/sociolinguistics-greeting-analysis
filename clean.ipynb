{
 "cells": [
  {
   "cell_type": "code",
   "execution_count": null,
   "metadata": {},
   "outputs": [],
   "source": [
    "import os\n",
    "import shutil\n",
    "\n",
    "\n",
    "def is_subtitle_file(filename):\n",
    "    return filename.endswith('.srt') \\\n",
    "        or filename.endswith('.txt') \\\n",
    "        or filename.endswith('.ass')"
   ]
  }
 ],
 "metadata": {
  "language_info": {
   "name": "python"
  }
 },
 "nbformat": 4,
 "nbformat_minor": 2
}
