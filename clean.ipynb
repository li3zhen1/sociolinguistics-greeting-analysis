{
 "cells": [
  {
   "cell_type": "code",
   "execution_count": 18,
   "metadata": {},
   "outputs": [],
   "source": [
    "import os\n",
    "import shutil\n",
    "\n",
    "\n",
    "def is_sc_file(filename):\n",
    "    return 'chn' in filename or 'chs' in filename \\\n",
    "          or '中文' in filename or '国语' in filename \\\n",
    "            or '简' in filename or '繁' in filename or '中字' in filename\n",
    "\n",
    "def is_subtitle_file(filename):\n",
    "    return filename.endswith('.srt') \\\n",
    "        or filename.endswith('.txt') \\\n",
    "        or filename.endswith('.ass')\n",
    "\n",
    "\n",
    "def get_nested_prefered_file_path(decade_path:str) -> [str, str]:\n",
    "    if os.path.isdir(decade_path):\n",
    "        for f in os.listdir(decade_path):\n",
    "            if is_subtitle_file(f) and is_sc_file(f):\n",
    "                return os.path.join(decade_path, f), f\n",
    "    return None"
   ]
  },
  {
   "cell_type": "code",
   "execution_count": 26,
   "metadata": {},
   "outputs": [
    {
     "name": "stdout",
     "output_type": "stream",
     "text": [
      "./captions/2010s/澳门风云2(简繁字幕)From.Vegas.to Macau.II.2015.720p.BluRay.x264-WiKi/From.Vegas.to Macau.II.2015.720p.BluRay.x264-WiKi.chs.srt  -->  ./captions/2010s/澳门风云2(简繁字幕)From.Vegas.to Macau.II.2015.720p.BluRay.x264-WiKi/From.Vegas.to Macau.II.2015.720p.BluRay.x264-WiKi.chs.srt\n",
      "./captions/2010s/赛德克·巴莱 Warriors.Of.The.Rainbow.Seediq.Bale.2011.BluRay.1080p.DTS.x264-CHD/赛德克·巴莱 Warriors.Of.The.Rainbow.Seediq.Bale.PART1.2011.BluRay.1080p.DTS.x264-CHD.chs.ass  -->  ./captions/2010s/赛德克·巴莱 Warriors.Of.The.Rainbow.Seediq.Bale.2011.BluRay.1080p.DTS.x264-CHD/赛德克·巴莱 Warriors.Of.The.Rainbow.Seediq.Bale.PART1.2011.BluRay.1080p.DTS.x264-CHD.chs.ass\n",
      "./captions/2010s/邪不压正.Hidden.Man.2018.CHINESE.720p.BluRay.H264.AAC-VXT.chseng/Hidden.Man.2018.CHINESE.720p.BluRay.H264.AAC-VXT.chseng.srt  -->  ./captions/2010s/邪不压正.Hidden.Man.2018.CHINESE.720p.BluRay.H264.AAC-VXT.chseng/Hidden.Man.2018.CHINESE.720p.BluRay.H264.AAC-VXT.chseng.srt\n",
      "./captions/2010s/捉妖记2(简繁字幕)Monster.Hunt.2.2018.720p.BluRay.x264-WiKi/Monster.Hunt.2.2018.720p.BluRay.x264-WiKi.chs.srt  -->  ./captions/2010s/捉妖记2(简繁字幕)Monster.Hunt.2.2018.720p.BluRay.x264-WiKi/Monster.Hunt.2.2018.720p.BluRay.x264-WiKi.chs.srt\n",
      "./captions/2010s/悟空传(简繁字幕)Wu.Kong.2017.720p.BluRay.x264-WiKi/Wu.Kong.2017.720p.BluRay.x264-WiKi.CN.chs.srt  -->  ./captions/2010s/悟空传(简繁字幕)Wu.Kong.2017.720p.BluRay.x264-WiKi/Wu.Kong.2017.720p.BluRay.x264-WiKi.CN.chs.srt\n",
      "./captions/2010s/山河故人 Mountains.May.Depart.2015.1080p.BluRay.x264.DTS-WiKi/山河故人 Mountains.May.Depart.2015.1080p.BluRay.x264.DTS-WiKi.chs.ass  -->  ./captions/2010s/山河故人 Mountains.May.Depart.2015.1080p.BluRay.x264.DTS-WiKi/山河故人 Mountains.May.Depart.2015.1080p.BluRay.x264.DTS-WiKi.chs.ass\n",
      "./captions/2010s/反贪风暴3(简繁英字幕)L.Storm.2018.720p.BluRay.x264-WiKi/L.Storm.2018.720p.BluRay.x264-WiKi.chs.srt  -->  ./captions/2010s/反贪风暴3(简繁英字幕)L.Storm.2018.720p.BluRay.x264-WiKi/L.Storm.2018.720p.BluRay.x264-WiKi.chs.srt\n",
      "./captions/2010s/反贪风暴2(中文简繁字幕)S.Storm.2016.720p.BluRay.x264-WiKi/S.Storm.2016.720p.BluRay.x264-WiKi.chs.srt  -->  ./captions/2010s/反贪风暴2(中文简繁字幕)S.Storm.2016.720p.BluRay.x264-WiKi/S.Storm.2016.720p.BluRay.x264-WiKi.chs.srt\n",
      "./captions/2010s/后来的我们(简繁字幕)Us.and.Them.2018.CHINESE.1080p.NF.WEBRip.DD5.1.x264-ARiN/Us and Them 2018 1080p NF WEB-DL DD5.1 x264-ARiN.简体.srt  -->  ./captions/2010s/后来的我们(简繁字幕)Us.and.Them.2018.CHINESE.1080p.NF.WEBRip.DD5.1.x264-ARiN/Us and Them 2018 1080p NF WEB-DL DD5.1 x264-ARiN.简体.srt\n",
      "./captions/2010s/澳门风云3(简繁字幕)From.Vegas.to.Macau.III.2016.720p.BluRay.x264-WiKi/From.Vegas.to.Macau.III.2016.720p.BluRay.x264-WiKi.chs.srt  -->  ./captions/2010s/澳门风云3(简繁字幕)From.Vegas.to.Macau.III.2016.720p.BluRay.x264-WiKi/From.Vegas.to.Macau.III.2016.720p.BluRay.x264-WiKi.chs.srt\n",
      "./captions/2010s/罗曼蒂克消亡史(简繁字幕)The.Wasted.Times.2016.720p.BluRay.x264-WiKi/The.Wasted.Times.2016.720p.BluRay.x264-WiKi.chs.ass  -->  ./captions/2010s/罗曼蒂克消亡史(简繁字幕)The.Wasted.Times.2016.720p.BluRay.x264-WiKi/The.Wasted.Times.2016.720p.BluRay.x264-WiKi.chs.ass\n",
      "./captions/2010s/一吻定情(简繁字幕)Fall in Love at First Kiss 2019 720p BluRay x264 -WiKi/Fall in Love at First Kiss 2019 720p BluRay x264 -WiKi.chs.srt  -->  ./captions/2010s/一吻定情(简繁字幕)Fall in Love at First Kiss 2019 720p BluRay x264 -WiKi/Fall in Love at First Kiss 2019 720p BluRay x264 -WiKi.chs.srt\n",
      "./captions/2010s/九层妖塔(简繁字幕)Chronicles.of.the.Ghostly.Tribe.2015.720p.BluRay.x264-WiKi/Chronicles.of.the.Ghostly.Tribe.2015.720p.BluRay.x264-WiKi.简体.srt  -->  ./captions/2010s/九层妖塔(简繁字幕)Chronicles.of.the.Ghostly.Tribe.2015.720p.BluRay.x264-WiKi/Chronicles.of.the.Ghostly.Tribe.2015.720p.BluRay.x264-WiKi.简体.srt\n",
      "./captions/2010s/血观音(简繁字幕)The.Bold.the.Corrupt.and.the.Beautiful.2017.720p.BluRay.x264-WiKi/The.Bold.the.Corrupt.and.the.Beautiful.2017.720p.BluRay.x264-WiKi.chs.srt  -->  ./captions/2010s/血观音(简繁字幕)The.Bold.the.Corrupt.and.the.Beautiful.2017.720p.BluRay.x264-WiKi/The.Bold.the.Corrupt.and.the.Beautiful.2017.720p.BluRay.x264-WiKi.chs.srt\n",
      "./captions/2010s/三生三世十里桃花 San.Sheng.San.Shi.Shi.Li.Tao.Hua.2017.1080p.BluRay.DTS-HD.MA.7.1.x264-PbK/San.Sheng.San.Shi.Shi.Li.Tao.Hua.2017.1080p.BluRay.DTS-HD.MA.7.1.x264-PbK-chs.srt  -->  ./captions/2010s/三生三世十里桃花 San.Sheng.San.Shi.Shi.Li.Tao.Hua.2017.1080p.BluRay.DTS-HD.MA.7.1.x264-PbK/San.Sheng.San.Shi.Shi.Li.Tao.Hua.2017.1080p.BluRay.DTS-HD.MA.7.1.x264-PbK-chs.srt\n",
      "./captions/2010s/逆时营救(简繁字幕)Reset.2017.720p.BluRay.x264-WiKi/Reset.2017.720p.BluRay.x264-WiKi.chs.srt  -->  ./captions/2010s/逆时营救(简繁字幕)Reset.2017.720p.BluRay.x264-WiKi/Reset.2017.720p.BluRay.x264-WiKi.chs.srt\n",
      "./captions/2010s/The.Crossing.2018.CHINESE.1080p.NF.WEBRip.DDP5.1.x264-PLB/The.Crossing.2018.CHINESE.1080p.NF.WEBRip.DDP5.1.x264-PLB.chs.srt  -->  ./captions/2010s/The.Crossing.2018.CHINESE.1080p.NF.WEBRip.DDP5.1.x264-PLB/The.Crossing.2018.CHINESE.1080p.NF.WEBRip.DDP5.1.x264-PLB.chs.srt\n",
      "./captions/2010s/我不是潘金莲(蓝光版简繁字幕)I.Am.Not.Madame.Bovary.2016.720p.BluRay.x264.DD5.1-HDC/2、我不是潘金莲 - 简体.ass  -->  ./captions/2010s/我不是潘金莲(蓝光版简繁字幕)I.Am.Not.Madame.Bovary.2016.720p.BluRay.x264.DD5.1-HDC/2、我不是潘金莲 - 简体.ass\n",
      "./captions/2010s/超时空同居(简繁字幕)How.Long.Will.I.Love.U.2018.720p.BluRay.x264-WiKi/How.Long.Will.I.Love.U.2018.720p.BluRay.x264-WiKi.chs.srt  -->  ./captions/2010s/超时空同居(简繁字幕)How.Long.Will.I.Love.U.2018.720p.BluRay.x264-WiKi/How.Long.Will.I.Love.U.2018.720p.BluRay.x264-WiKi.chs.srt\n",
      "./captions/2010s/受益人 My.Dear.Liar.2019.1080p.DSNP.WEB-DL.AAC2.0.H.264-PandaMoon/受益人 My.Dear.Liar.2019.1080p.DSNP.WEB-DL.AAC2.0.H.264-PandaMoon.chs.ass  -->  ./captions/2010s/受益人 My.Dear.Liar.2019.1080p.DSNP.WEB-DL.AAC2.0.H.264-PandaMoon/受益人 My.Dear.Liar.2019.1080p.DSNP.WEB-DL.AAC2.0.H.264-PandaMoon.chs.ass\n",
      "./captions/2010s/Chongqing.Hot.Pot.2016.720p.BluRay.x264-WiKi_火锅英雄/Chongqing.Hot.Pot.2016.720p.BluRay.x264-WiKi.chs.srt  -->  ./captions/2010s/Chongqing.Hot.Pot.2016.720p.BluRay.x264-WiKi_火锅英雄/Chongqing.Hot.Pot.2016.720p.BluRay.x264-WiKi.chs.srt\n",
      "./captions/2010s/一出好戏(简繁字幕)The.Island.2018.720p.BluRay.x264-WiKi/The.Island.2018.720p.BluRay.x264-WiKi.chs.srt  -->  ./captions/2010s/一出好戏(简繁字幕)The.Island.2018.720p.BluRay.x264-WiKi/The.Island.2018.720p.BluRay.x264-WiKi.chs.srt\n",
      "./captions/2010s/反贪风暴4(简繁字幕)P.Storm.2019.720p.BluRay.x264-WiKi/P.Storm.2019.720p.BluRay.x264-WiKi.chs.srt  -->  ./captions/2010s/反贪风暴4(简繁字幕)P.Storm.2019.720p.BluRay.x264-WiKi/P.Storm.2019.720p.BluRay.x264-WiKi.chs.srt\n",
      "./captions/2010s/西游记女儿国(简繁字幕)The.Monkey.King.3.2018.720p.BluRay.x264-WiKi/The.Monkey.King.3.2018.720p.BluRay.x264-WiKi.chs.srt  -->  ./captions/2010s/西游记女儿国(简繁字幕)The.Monkey.King.3.2018.720p.BluRay.x264-WiKi/The.Monkey.King.3.2018.720p.BluRay.x264-WiKi.chs.srt\n",
      "./captions/2010s/28岁未成年.Suddenly.Seventeen.2015.CHINESE.720p.BluRay.H264.AAC-VXT_chsEng/Suddenly.Seventeen.2015.CHINESE.720p.BluRay.H264.AAC-VXT_chsEng.srt  -->  ./captions/2010s/28岁未成年.Suddenly.Seventeen.2015.CHINESE.720p.BluRay.H264.AAC-VXT_chsEng/Suddenly.Seventeen.2015.CHINESE.720p.BluRay.H264.AAC-VXT_chsEng.srt\n",
      "./captions/2010s/港冏(電影插曲歌詞全紀錄) Lost.in.Hong.Kong.2015.720p.BluRay.x264-ROVERS/Lost.in.Hong.Kong.2015.720p.BluRay.x264-ROVERS.chs.srt  -->  ./captions/2010s/港冏(電影插曲歌詞全紀錄) Lost.in.Hong.Kong.2015.720p.BluRay.x264-ROVERS/Lost.in.Hong.Kong.2015.720p.BluRay.x264-ROVERS.chs.srt\n",
      "./captions/2010s/烈火英雄(简繁字幕)The.Bravest.2019.GER.BluRay.720p.x264.AC3-CMCT/The.Bravest.2019.GER.BluRay.720p.x264.AC3-CMCT.chs.srt  -->  ./captions/2010s/烈火英雄(简繁字幕)The.Bravest.2019.GER.BluRay.720p.x264.AC3-CMCT/The.Bravest.2019.GER.BluRay.720p.x264.AC3-CMCT.chs.srt\n",
      "./captions/2010s/陪安东尼度过漫长岁月(简繁字幕)Les.Aventures.d'Anthony.2015.720p.BluRay.x264-WiKi/Les.Aventures.d'Anthony.2015.720p.BluRay.x264-WiKi.chs.srt  -->  ./captions/2010s/陪安东尼度过漫长岁月(简繁字幕)Les.Aventures.d'Anthony.2015.720p.BluRay.x264-WiKi/Les.Aventures.d'Anthony.2015.720p.BluRay.x264-WiKi.chs.srt\n",
      "./captions/2010s/沉默的证人(简繁字幕)Bodies.at.Rest.2019.720p.BluRay.x264-WiKi/Bodies.at.Rest.2019.720p.BluRay.x264-WiKi.chs.srt  -->  ./captions/2010s/沉默的证人(简繁字幕)Bodies.at.Rest.2019.720p.BluRay.x264-WiKi/Bodies.at.Rest.2019.720p.BluRay.x264-WiKi.chs.srt\n",
      "./captions/2010s/面包，巴士和第二次初恋(简繁字幕)Bread.Bus.and.the.Second.First.Love.2018.720p.BluRay.x264.DTS-WiKi/Bread.Bus.and.the.Second.First.Love.2018.720p.BluRay.x264.DTS-WiKi.chs.ass  -->  ./captions/2010s/面包，巴士和第二次初恋(简繁字幕)Bread.Bus.and.the.Second.First.Love.2018.720p.BluRay.x264.DTS-WiKi/Bread.Bus.and.the.Second.First.Love.2018.720p.BluRay.x264.DTS-WiKi.chs.ass\n",
      "./captions/2010s/蜀山降魔传(简繁字幕)The.Legend.of.Zu.2018.720p.BluRay.x264-WiKi/The.Legend.of.Zu.2018.720p.BluRay.x264-WiKi.chs.srt  -->  ./captions/2010s/蜀山降魔传(简繁字幕)The.Legend.of.Zu.2018.720p.BluRay.x264-WiKi/The.Legend.of.Zu.2018.720p.BluRay.x264-WiKi.chs.srt\n",
      "./captions/2010s/北京遇上西雅图2(简繁字幕)Book.of.Love.2016.720p.BluRay.x264-WiKi/Book.of.Love.2016.720p.BluRay.x264-WiKi.chs.srt  -->  ./captions/2010s/北京遇上西雅图2(简繁字幕)Book.of.Love.2016.720p.BluRay.x264-WiKi/Book.of.Love.2016.720p.BluRay.x264-WiKi.chs.srt\n",
      "./captions/2010s/浮城谜事 Mystery.2012.CHINESE.1080p.NF.WEBRip.DDP5.1.x264-NOGRP/浮城谜事 Mystery.2012.CHINESE.1080p.NF.WEBRip.DDP5.1.x264-NOGRP.chs.ass  -->  ./captions/2010s/浮城谜事 Mystery.2012.CHINESE.1080p.NF.WEBRip.DDP5.1.x264-NOGRP/浮城谜事 Mystery.2012.CHINESE.1080p.NF.WEBRip.DDP5.1.x264-NOGRP.chs.ass\n",
      "./captions/2010s/决战食神(简繁字幕)Cook.Up.a.Storm.2017.720p.BluRay.x264-WiKi/Cook.Up.a.Storm.2017.720p.BluRay.x264-WiKi.HK.chs.srt  -->  ./captions/2010s/决战食神(简繁字幕)Cook.Up.a.Storm.2017.720p.BluRay.x264-WiKi/Cook.Up.a.Storm.2017.720p.BluRay.x264-WiKi.HK.chs.srt\n"
     ]
    }
   ],
   "source": [
    "PATH = \"./captions/2010s/\"\n",
    "\n",
    "for _f in os.listdir(PATH):\n",
    "    f = os.path.join(PATH, _f)\n",
    "    if os.path.isdir(f):\n",
    "        result = get_nested_prefered_file_path(f)\n",
    "        if result is not None:\n",
    "            nested_prefered_file_path, file_name = result\n",
    "            # move to upper level\n",
    "\n",
    "            print(nested_prefered_file_path, \" --> \", os.path.join(f, file_name))\n",
    "            shutil.move(nested_prefered_file_path, \n",
    "                        os.path.join(PATH, file_name)\n",
    "                        )"
   ]
  }
 ],
 "metadata": {
  "kernelspec": {
   "display_name": "3.11",
   "language": "python",
   "name": "python3"
  },
  "language_info": {
   "codemirror_mode": {
    "name": "ipython",
    "version": 3
   },
   "file_extension": ".py",
   "mimetype": "text/x-python",
   "name": "python",
   "nbconvert_exporter": "python",
   "pygments_lexer": "ipython3",
   "version": "3.11.0"
  }
 },
 "nbformat": 4,
 "nbformat_minor": 2
}
